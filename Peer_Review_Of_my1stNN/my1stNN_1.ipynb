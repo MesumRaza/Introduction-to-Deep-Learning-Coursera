{
 "cells": [
  {
   "cell_type": "code",
   "execution_count": 62,
   "metadata": {
    "collapsed": true
   },
   "outputs": [],
   "source": [
    "import math\n",
    "import numpy as np\n",
    "import tensorflow as tf\n",
    "from tensorflow.python.framework import ops"
   ]
  },
  {
   "cell_type": "code",
   "execution_count": 63,
   "metadata": {
    "collapsed": false
   },
   "outputs": [
    {
     "name": "stdout",
     "output_type": "stream",
     "text": [
      "(50000, 28, 28) (50000,)\n"
     ]
    },
    {
     "data": {
      "image/png": "[encoded data removed]",
      "text/plain": [
       "<matplotlib.figure.Figure at 0x7fe540bc3c50>"
      ]
     },
     "metadata": {},
     "output_type": "display_data"
    }
   ],
   "source": [
    "from preprocessed_mnist import load_dataset\n",
    "X_train, y_train, X_val, y_val, X_test, y_test = load_dataset()\n",
    "print(X_train.shape, y_train.shape)\n",
    "import matplotlib.pyplot as plt\n",
    "%matplotlib inline\n",
    "plt.imshow(X_train[0], cmap=\"Greys\");"
   ]
  },
  {
   "cell_type": "code",
   "execution_count": 64,
   "metadata": {
    "collapsed": false
   },
   "outputs": [
    {
     "data": {
      "text/plain": [
       "(10000, 28, 28)"
      ]
     },
     "execution_count": 64,
     "metadata": {},
     "output_type": "execute_result"
    }
   ],
   "source": [
    "X_test.shape"
   ]
  },
  {
   "cell_type": "code",
   "execution_count": 82,
   "metadata": {
    "collapsed": true
   },
   "outputs": [],
   "source": [
    "X_train = X_train.reshape(X_train.shape[0], -1)\n",
    "X_test = X_test.reshape(X_test.shape[0], -1)"
   ]
  },
  {
   "cell_type": "code",
   "execution_count": 83,
   "metadata": {
    "collapsed": false
   },
   "outputs": [
    {
     "data": {
      "text/plain": [
       "(10000, 784)"
      ]
     },
     "execution_count": 83,
     "metadata": {},
     "output_type": "execute_result"
    }
   ],
   "source": [
    "X_test.shape"
   ]
  },
  {
   "cell_type": "code",
   "execution_count": 68,
   "metadata": {
    "collapsed": true
   },
   "outputs": [],
   "source": [
    "import tensorflow as tf\n"
   ]
  },
  {
   "cell_type": "code",
   "execution_count": 69,
   "metadata": {
    "collapsed": true
   },
   "outputs": [],
   "source": [
    "X = tf.placeholder(tf.float32, shape=(None, 784))\n",
    "Y = tf.placeholder(tf.float32, shape=(None, 10))\n",
    "keep_prob = tf.placeholder(tf.float32)"
   ]
  },
  {
   "cell_type": "code",
   "execution_count": 71,
   "metadata": {
    "collapsed": true
   },
   "outputs": [],
   "source": [
    "W11 = tf.get_variable(\"W11\",  [784, 128], initializer=tf.contrib.layers.xavier_initializer())\n",
    "b11 = tf.get_variable(\"b11\",  [128], initializer=tf.zeros_initializer())\n",
    "W22 = tf.get_variable(\"W22\",  [128, 128], initializer=tf.contrib.layers.xavier_initializer())\n",
    "b22 = tf.get_variable(\"b22\",  [128], initializer=tf.zeros_initializer())\n",
    "W33 = tf.get_variable(\"W33\", [128, 10], initializer=tf.contrib.layers.xavier_initializer())\n",
    "b33 = tf.get_variable(\"b33\",  [10], initializer=tf.zeros_initializer())"
   ]
  },
  {
   "cell_type": "code",
   "execution_count": 79,
   "metadata": {
    "collapsed": true
   },
   "outputs": [],
   "source": [
    "Z1 = tf.matmul(X, W11)+b11\n",
    "A1 = tf.nn.relu(Z1)\n",
    "A1 = tf.nn.dropout(A1, keep_prob)\n",
    "Z2 = tf.matmul(A1, W22)+b22\n",
    "A2 = tf.nn.relu(Z2)\n",
    "A2 = tf.nn.dropout(A2, keep_prob)\n",
    "Z3 = tf.matmul(A2, W33)+b33\n",
    "A3 = tf.nn.sigmoid(Z3)"
   ]
  },
  {
   "cell_type": "code",
   "execution_count": 75,
   "metadata": {
    "collapsed": true
   },
   "outputs": [],
   "source": [
    "def compute_cost(A3, Y):\n",
    "    cost = tf.reduce_mean(tf.nn.softmax_cross_entropy_with_logits(labels=Y, logits=A3))\n",
    "    return cost"
   ]
  },
  {
   "cell_type": "code",
   "execution_count": 76,
   "metadata": {
    "collapsed": true
   },
   "outputs": [],
   "source": [
    "cost = compute_cost(A3, Y)\n",
    "starter_learning_rate = 0.0001\n",
    "global_step = tf.Variable(0, trainable=False)\n",
    "learning_rate = tf.train.exponential_decay(starter_learning_rate, global_step, 100, 0.85, staircase=True)\n",
    "optimizer = tf.train.AdamOptimizer(learning_rate).minimize(cost)\n",
    "init = tf.global_variables_initializer()"
   ]
  },
  {
   "cell_type": "code",
   "execution_count": 77,
   "metadata": {
    "collapsed": true
   },
   "outputs": [],
   "source": [
    "import numpy as np\n",
    "y_train = np.eye(10)[y_train]\n",
    "y_test = np.eye(10)[y_test]"
   ]
  },
  {
   "cell_type": "code",
   "execution_count": 89,
   "metadata": {
    "collapsed": false
   },
   "outputs": [
    {
     "name": "stdout",
     "output_type": "stream",
     "text": [
      "Test cost after 10 epochs: 1.53384\n",
      "Test cost after 20 epochs: 1.50943\n",
      "Test cost after 30 epochs: 1.49742\n",
      "Test cost after 40 epochs: 1.49006\n",
      "Test cost after 50 epochs: 1.48463\n",
      "Test cost after 60 epochs: 1.48065\n",
      "Test cost after 70 epochs: 1.47772\n",
      "Test cost after 80 epochs: 1.4754\n",
      "Test cost after 90 epochs: 1.47348\n",
      "Test cost after 100 epochs: 1.47224\n",
      "Test cost after 110 epochs: 1.4711\n",
      "Test cost after 120 epochs: 1.47034\n",
      "Test cost after 130 epochs: 1.4695\n",
      "Test cost after 140 epochs: 1.46895\n",
      "Test cost after 150 epochs: 1.46845\n",
      "Test cost after 160 epochs: 1.46802\n",
      "Test cost after 170 epochs: 1.46777\n",
      "Test cost after 180 epochs: 1.46748\n",
      "Test cost after 190 epochs: 1.46722\n",
      "Test cost after 200 epochs: 1.467\n"
     ]
    },
    {
     "data": {
      "image/png": "[encoded data removed]",
      "text/plain": [
       "<matplotlib.figure.Figure at 0x7fe5299a37f0>"
      ]
     },
     "metadata": {},
     "output_type": "display_data"
    },
    {
     "name": "stdout",
     "output_type": "stream",
     "text": [
      "Train Accuracy: 0.99226\n",
      "Test Accuracy: 0.9777\n"
     ]
    }
   ],
   "source": [
    "batch_size = 256\n",
    "with tf.Session() as sess:\n",
    "    sess.run(init)\n",
    "    train_costs = []\n",
    "    test_costs = []\n",
    "    num_minibatches = int(50000 / batch_size)\n",
    "    for epoch in range(200):\n",
    "        \n",
    "        for _ in range(num_minibatches):\n",
    "\n",
    "                # Select a minibatch\n",
    "                indices = np.random.choice(50000, batch_size)\n",
    "                (minibatch_X, minibatch_Y) = X_train[indices], y_train[indices]\n",
    "                sess.run(optimizer, feed_dict={X:minibatch_X, Y:minibatch_Y, keep_prob : 0.65})    \n",
    "        \n",
    "        #for i in range(0, 50000, batch_size):\n",
    "            #sess.run(optimizer, feed_dict={X:X_train[i:i+batch_size], Y:y_train[i: i+batch_size], keep_prob : 0.65})\n",
    "        train_costs.append(sess.run(cost, feed_dict={X:X_train, Y:y_train, keep_prob : 1}))\n",
    "        test_costs.append(sess.run(cost, feed_dict={X:X_test, Y:y_test, keep_prob : 1}))\n",
    "        if epoch%10 == 9:\n",
    "            print(\"Test cost after \" + str(epoch+1)+ \" epochs: \"+ str(train_costs[-1]))\n",
    "    iterations = list(range(200))\n",
    "    plt.plot(iterations, train_costs, label='Train')\n",
    "    plt.plot(iterations, test_costs, label='Test')\n",
    "    plt.ylabel('train test cost')\n",
    "    plt.xlabel('iterations')\n",
    "    plt.show()\n",
    "    \n",
    "    # Calculate the correct predictions\n",
    "    predict_op = tf.argmax(Z3, 1)\n",
    "    correct_prediction = tf.equal(predict_op, tf.argmax(Y, 1))\n",
    "\n",
    "    # Calculate accuracy on the test set\n",
    "    accuracy = tf.reduce_mean(tf.cast(correct_prediction, \"float\"))\n",
    "    train_accuracy = accuracy.eval({X: X_train, Y: y_train, keep_prob : 1})\n",
    "    test_accuracy = accuracy.eval({X: X_test, Y: y_test, keep_prob : 1})\n",
    "    print(\"Train Accuracy:\", train_accuracy)\n",
    "    print(\"Test Accuracy:\", test_accuracy)"
   ]
  },
  {
   "cell_type": "code",
   "execution_count": null,
   "metadata": {
    "collapsed": true
   },
   "outputs": [],
   "source": []
  }
 ],
 "metadata": {
  "kernelspec": {
   "display_name": "Python 3",
   "language": "python",
   "name": "python3"
  },
  "language_info": {
   "codemirror_mode": {
    "name": "ipython",
    "version": 3
   },
   "file_extension": ".py",
   "mimetype": "text/x-python",
   "name": "python",
   "nbconvert_exporter": "python",
   "pygments_lexer": "ipython3",
   "version": "3.5.3"
  }
 },
 "nbformat": 4,
 "nbformat_minor": 2
}
