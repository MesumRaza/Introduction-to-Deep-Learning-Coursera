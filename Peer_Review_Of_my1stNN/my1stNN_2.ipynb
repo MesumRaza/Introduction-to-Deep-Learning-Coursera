{
 "cells": [
  {
   "cell_type": "code",
   "execution_count": 1,
   "metadata": {
    "collapsed": true
   },
   "outputs": [],
   "source": [
    "import tensorflow as tf\n",
    "import numpy as np\n",
    "s = tf.InteractiveSession()"
   ]
  },
  {
   "cell_type": "code",
   "execution_count": 2,
   "metadata": {
    "collapsed": false
   },
   "outputs": [
    {
     "name": "stderr",
     "output_type": "stream",
     "text": [
      "Using TensorFlow backend.\n"
     ]
    },
    {
     "name": "stdout",
     "output_type": "stream",
     "text": [
      "(50000, 28, 28) (50000,)\n"
     ]
    },
    {
     "data": {
      "image/png": "[encoded data removed]",
      "text/plain": [
       "<matplotlib.figure.Figure at 0x7f64345b8b00>"
      ]
     },
     "metadata": {},
     "output_type": "display_data"
    }
   ],
   "source": [
    "from preprocessed_mnist import load_dataset\n",
    "X_train_raw, y_train, X_val_raw, y_val, X_test_raw, y_test = load_dataset()\n",
    "print(X_train_raw.shape, y_train.shape)\n",
    "import matplotlib.pyplot as plt\n",
    "%matplotlib inline\n",
    "plt.imshow(X_train_raw[0], cmap=\"Greys\");"
   ]
  },
  {
   "cell_type": "code",
   "execution_count": 3,
   "metadata": {
    "collapsed": false
   },
   "outputs": [
    {
     "name": "stdout",
     "output_type": "stream",
     "text": [
      "y [shape - (50000,)]: [5 0 4 1 9]\n",
      "X [shape - (50000, 28, 28)]:\n"
     ]
    }
   ],
   "source": [
    "print(\"y [shape - %s]:\" % (str(y_train.shape)), y_train[0:5])\n",
    "print(\"X [shape - %s]:\" % (str(X_train_raw.shape)))"
   ]
  },
  {
   "cell_type": "code",
   "execution_count": 4,
   "metadata": {
    "collapsed": false
   },
   "outputs": [
    {
     "name": "stdout",
     "output_type": "stream",
     "text": [
      "X [shape - (50000, 784)]:\n"
     ]
    }
   ],
   "source": [
    "# Flatten (vectorize) the pixels\n",
    "X_train = np.reshape(X_train_raw,(X_train_raw.shape[0],X_train_raw.shape[1]*X_train_raw.shape[2]))\n",
    "X_val = np.reshape(X_val_raw,(X_val_raw.shape[0],X_val_raw.shape[1]*X_val_raw.shape[2]))\n",
    "X_test = np.reshape(X_test_raw,(X_test_raw.shape[0],X_test_raw.shape[1]*X_test_raw.shape[2]))\n",
    "print(\"X [shape - %s]:\" % (str(X_train.shape)))"
   ]
  },
  {
   "cell_type": "code",
   "execution_count": 5,
   "metadata": {
    "collapsed": true
   },
   "outputs": [],
   "source": [
    "# Layer's sizes\n",
    "x_size = X_train.shape[1] # Number of input nodes: 784 features\n",
    "h_size = 75 # Number of hidden nodes\n",
    "y_size = 10 # Number of outcomes (10 digits)"
   ]
  },
  {
   "cell_type": "code",
   "execution_count": 6,
   "metadata": {
    "collapsed": true
   },
   "outputs": [],
   "source": [
    "# Model parameters - weights and bias\n",
    "weights_1 = tf.Variable(tf.random_normal((x_size, h_size),stddev=0.1, dtype='float64'))\n",
    "b_1 = tf.Variable(tf.random_normal((1, h_size),stddev=0.1, dtype='float64'))\n",
    "weights_2 = tf.Variable(tf.random_normal((h_size, y_size),stddev=0.1, dtype='float64'))\n",
    "b_2 = tf.Variable(tf.random_normal((1, y_size),stddev=0.1, dtype='float64'))"
   ]
  },
  {
   "cell_type": "code",
   "execution_count": 7,
   "metadata": {
    "collapsed": true
   },
   "outputs": [],
   "source": [
    "# Placeholders for the input data\n",
    "input_X = tf.placeholder('float64', shape=(None, x_size))\n",
    "input_y = tf.placeholder('float64', shape=(None,))       "
   ]
  },
  {
   "cell_type": "code",
   "execution_count": 8,
   "metadata": {
    "collapsed": true
   },
   "outputs": [],
   "source": [
    "# The model code\n",
    "\n",
    "# Compute a vector of predictions, resulting shape should be [input_X.shape[0],]\n",
    "# This is 1D, if you have extra dimensions, you can  get rid of them with tf.squeeze .\n",
    "# Don't forget the sigmoid.\n",
    "# predicted_y = <predicted probabilities for input_X>   \n",
    "yhat_1 = tf.sigmoid(tf.squeeze(tf.add(tf.matmul(input_X,weights_1),b_1)))\n",
    "yhat_2 = tf.squeeze(tf.add(tf.matmul(yhat_1,weights_2),b_2))   \n",
    "predicted_y = tf.nn.softmax(yhat_2)\n",
    "predicted = tf.argmax(predicted_y, axis=1)\n",
    "# Loss. Should be a scalar number - average loss over all the objects\n",
    "# tf.reduce_mean is your friend here\n",
    "# loss = <logistic loss (scalar, mean over sample)>\n",
    "one_hot = tf.one_hot(tf.cast(input_y, tf.int64), y_size)\n",
    "loss = tf.reduce_mean(tf.nn.softmax_cross_entropy_with_logits(labels=one_hot, logits=yhat_2))\n",
    "#loss = tf.reduce_mean(-tf.log(predicted_y)*input_y - tf.log(1-predicted_y)*(1-input_y))\n",
    "# See above for an example. tf.train.*Optimizer\n",
    "# optimizer = <optimizer that minimizes loss>\n",
    "optimizer = tf.train.MomentumOptimizer(0.01, 0.9, use_nesterov=True).minimize(loss)\n",
    "#optimizer = tf.train.GradientDescentOptimizer(0.01).minimize(loss)\n"
   ]
  },
  {
   "cell_type": "code",
   "execution_count": null,
   "metadata": {
    "collapsed": false,
    "scrolled": true
   },
   "outputs": [
    {
     "name": "stdout",
     "output_type": "stream",
     "text": [
      "\r",
      "Epoch = 1, train accuracy = 94.48%, test accuracy = 94.30%"
     ]
    }
   ],
   "source": [
    "# Run SGD\n",
    "import matplotlib.pyplot as plt\n",
    "%matplotlib inline\n",
    "\n",
    "s.run(tf.global_variables_initializer())\n",
    "epochs = range(50)\n",
    "mini_batch_sz = 3\n",
    "epoch_size = 30\n",
    "loss_train = np.zeros(epoch_size)\n",
    "loss_test = np.zeros(epoch_size)\n",
    "plt.ion()\n",
    "for epoch in range(epoch_size):\n",
    "    loss_train[epoch] = s.run(loss, {input_X: X_train, input_y: y_train})\n",
    "    loss_test[epoch] = s.run(loss, {input_X: X_test, input_y: y_test})    \n",
    "    for i in range(0, len(X_train), mini_batch_sz):\n",
    "        j = i + mini_batch_sz\n",
    "        s.run(optimizer, {input_X: X_train[i:j], input_y: y_train[i:j]})\n",
    "    train_predicted = s.run(predicted, {input_X: X_train, input_y: y_train})\n",
    "    train_accuracy = np.mean(y_train == train_predicted)\n",
    "    test_predicted = s.run(predicted, {input_X: X_test, input_y: y_test})\n",
    "    test_accuracy  = np.mean(y_test == test_predicted)\n",
    "    print(\"\\rEpoch = %d, train accuracy = %.2f%%, test accuracy = %.2f%%\" % (epoch + 1, 100. * train_accuracy, 100. * test_accuracy), end=\"\")\n",
    "plt.plot(epochs, loss_train, label=\"$train, loss$\")\n",
    "plt.plot(epochs, loss_test, label=r\"$test, loss$\")\n",
    "plt.legend()\n",
    "plt.show()\n"
   ]
  }
 ],
 "metadata": {
  "kernelspec": {
   "display_name": "Python 3",
   "language": "python",
   "name": "python3"
  },
  "language_info": {
   "codemirror_mode": {
    "name": "ipython",
    "version": 3
   },
   "file_extension": ".py",
   "mimetype": "text/x-python",
   "name": "python",
   "nbconvert_exporter": "python",
   "pygments_lexer": "ipython3",
   "version": "3.5.3"
  }
 },
 "nbformat": 4,
 "nbformat_minor": 2
}
